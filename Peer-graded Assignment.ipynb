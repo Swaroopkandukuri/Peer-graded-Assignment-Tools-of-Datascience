{
 "cells": [
  {
   "cell_type": "markdown",
   "id": "a7996e45-2e01-44ed-8e41-6c8226e1393d",
   "metadata": {},
   "source": [
    "<h1>My Jupyter Notebook on IBM Watson Studio</h1>"
   ]
  },
  {
   "cell_type": "markdown",
   "id": "b8686dbf-5cce-40dd-9ed9-74303357ffce",
   "metadata": {},
   "source": [
    "**Swaroop Kandukuri**"
   ]
  },
  {
   "cell_type": "markdown",
   "id": "56b3be01-9de6-452c-8a2a-4177f3b83ad2",
   "metadata": {},
   "source": [
    "_I am interested in data science because I want to integrate the strength of AI and ML with the needs of business to provide effective solutions and offer in-depth insights into problems that an organisation must solve or find underlying trends to find new potential discoveries._"
   ]
  },
  {
   "cell_type": "markdown",
   "id": "8703bd05-e686-443a-a75f-b00d240f41cd",
   "metadata": {},
   "source": [
    "<h3>My Code is about adding two numbers</h3>"
   ]
  },
  {
   "cell_type": "code",
   "execution_count": 3,
   "id": "6c33822a-9f62-4f34-ad71-2daf350988c9",
   "metadata": {},
   "outputs": [
    {
     "data": {
      "text/plain": [
       "2"
      ]
     },
     "execution_count": 3,
     "metadata": {},
     "output_type": "execute_result"
    }
   ],
   "source": [
    "1+1"
   ]
  },
  {
   "cell_type": "markdown",
   "id": "476ae16a-9ed4-44fe-972c-93bbd7e6f907",
   "metadata": {},
   "source": [
    "Horizontal List"
   ]
  },
  {
   "cell_type": "code",
   "execution_count": 4,
   "id": "94138364-2c95-49f3-97c0-091eeb772625",
   "metadata": {},
   "outputs": [
    {
     "name": "stdout",
     "output_type": "stream",
     "text": [
      "['apple', 'orange', 'banana', 'cherry']\n"
     ]
    }
   ],
   "source": [
    "fruits = ['apple', 'banana', 'cherry']\n",
    "\n",
    "fruits.insert(1, \"orange\")\n",
    "\n",
    "print(fruits)"
   ]
  },
  {
   "cell_type": "markdown",
   "id": "8467659a-79cc-4a96-874c-ccb32ba932db",
   "metadata": {},
   "source": [
    "**Youtube Logo**\n"
   ]
  },
  {
   "cell_type": "markdown",
   "id": "d1e19091-16a1-49a7-9c0a-e9545c7840bc",
   "metadata": {},
   "source": [
    "<img src=\"https://upload.wikimedia.org/wikipedia/commons/0/09/YouTube_full-color_icon_%282017%29.svg\" alt=\"Youtube Logo\" width=\"50\" height=\"60\">\n"
   ]
  },
  {
   "cell_type": "markdown",
   "id": "07d250c1-a2a6-4eb6-b05e-6f11947e47ee",
   "metadata": {},
   "source": [
    "<a href=\"https://www.youtube.com/\">Open YouTube</a>\n"
   ]
  },
  {
   "cell_type": "code",
   "execution_count": null,
   "id": "ec0fba01-98f3-4c92-83a7-eef11a4697a8",
   "metadata": {},
   "outputs": [],
   "source": []
  }
 ],
 "metadata": {
  "kernelspec": {
   "display_name": "Python",
   "language": "python",
   "name": "conda-env-python-py"
  },
  "language_info": {
   "codemirror_mode": {
    "name": "ipython",
    "version": 3
   },
   "file_extension": ".py",
   "mimetype": "text/x-python",
   "name": "python",
   "nbconvert_exporter": "python",
   "pygments_lexer": "ipython3",
   "version": "3.7.12"
  }
 },
 "nbformat": 4,
 "nbformat_minor": 5
}
